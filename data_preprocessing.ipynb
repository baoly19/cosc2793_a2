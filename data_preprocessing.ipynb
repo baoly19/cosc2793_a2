{
 "cells": [
  {
   "cell_type": "code",
   "execution_count": null,
   "id": "08ca8eb6-1ac1-4d06-8701-70ec6fe622d9",
   "metadata": {},
   "outputs": [],
   "source": [
    "# import library here"
   ]
  },
  {
   "cell_type": "markdown",
   "id": "2fd30ccc-06ab-4cd9-a7c5-b0b61ebdff0e",
   "metadata": {},
   "source": [
    "# Data preprocessing"
   ]
  },
  {
   "cell_type": "markdown",
   "id": "c4ebf24e-3f75-4571-b658-fce27ca2cf7a",
   "metadata": {},
   "source": [
    "From the EDA, the following data processing is required: \n",
    "- Normalized the color?\n",
    "- Data augmentation:\n",
    "    When working with medical image data, data augmentation should be carefully considered to avoid introducing false information. However, as the dataset is related to cell-type structure, flipping and rotating are acceptable as the overall structure is not affected. This is also the technique that is used in the paper **REF**. "
   ]
  },
  {
   "cell_type": "code",
   "execution_count": null,
   "id": "a0455210-d451-4634-80c4-e8dbef6cd931",
   "metadata": {},
   "outputs": [],
   "source": []
  }
 ],
 "metadata": {
  "kernelspec": {
   "display_name": "Python 3 (ipykernel)",
   "language": "python",
   "name": "python3"
  },
  "language_info": {
   "codemirror_mode": {
    "name": "ipython",
    "version": 3
   },
   "file_extension": ".py",
   "mimetype": "text/x-python",
   "name": "python",
   "nbconvert_exporter": "python",
   "pygments_lexer": "ipython3",
   "version": "3.9.18"
  }
 },
 "nbformat": 4,
 "nbformat_minor": 5
}

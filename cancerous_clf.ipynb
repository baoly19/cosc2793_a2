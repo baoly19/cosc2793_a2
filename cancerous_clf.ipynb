{
 "cells": [
  {
   "cell_type": "code",
   "execution_count": 1,
   "id": "436fed97-c446-4e3c-a28b-a7e9d932cd3c",
   "metadata": {},
   "outputs": [],
   "source": [
    "# Import your library here"
   ]
  },
  {
   "cell_type": "markdown",
   "id": "59d6eba0-47fc-4b0d-9b66-83e8e2c2f3d2",
   "metadata": {},
   "source": [
    "# Models for classifiying isCanerous status"
   ]
  },
  {
   "cell_type": "markdown",
   "id": "72f7500c-9c05-4f9e-8c33-afe452a44f9c",
   "metadata": {},
   "source": [
    "Add the description for the following statements: \n",
    "- What is the problem to solve here? Binary classifcaiton\n",
    "- Which metric should I used? (accuracy? weighted F1 score since we are having imbalanced dataset here, we should consider this)\n",
    "- What is the baseline methods?\n",
    "- Which models (**from the paper**) are used to compare with our model?"
   ]
  },
  {
   "cell_type": "code",
   "execution_count": null,
   "id": "dd311e76-2014-4649-9320-90dc0f9d5b31",
   "metadata": {},
   "outputs": [],
   "source": []
  }
 ],
 "metadata": {
  "kernelspec": {
   "display_name": "Python 3 (ipykernel)",
   "language": "python",
   "name": "python3"
  },
  "language_info": {
   "codemirror_mode": {
    "name": "ipython",
    "version": 3
   },
   "file_extension": ".py",
   "mimetype": "text/x-python",
   "name": "python",
   "nbconvert_exporter": "python",
   "pygments_lexer": "ipython3",
   "version": "3.9.18"
  }
 },
 "nbformat": 4,
 "nbformat_minor": 5
}

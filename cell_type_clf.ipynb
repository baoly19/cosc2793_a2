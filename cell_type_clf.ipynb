{
 "cells": [
  {
   "cell_type": "code",
   "execution_count": 1,
   "id": "436fed97-c446-4e3c-a28b-a7e9d932cd3c",
   "metadata": {},
   "outputs": [],
   "source": [
    "# Import your library here"
   ]
  },
  {
   "cell_type": "markdown",
   "id": "59d6eba0-47fc-4b0d-9b66-83e8e2c2f3d2",
   "metadata": {},
   "source": [
    "# Models for classifiying cell type"
   ]
  },
  {
   "cell_type": "markdown",
   "id": "48e5f841-00c5-4181-b238-ff04527ac400",
   "metadata": {},
   "source": [
    "## Problem statement"
   ]
  },
  {
   "cell_type": "markdown",
   "id": "72f7500c-9c05-4f9e-8c33-afe452a44f9c",
   "metadata": {},
   "source": [
    "Add the description for the following statements: \n",
    "- What is the problem to solve here? Multi class classifcaiton\n",
    "- Which metric should I used? (accuracy? weighted F1 score since we are having imbalanced dataset here, we should consider this)\n",
    "- What is the baseline methods?\n",
    "- Which models (**from the paper**) are used to compare with our model?"
   ]
  },
  {
   "cell_type": "code",
   "execution_count": null,
   "id": "dd311e76-2014-4649-9320-90dc0f9d5b31",
   "metadata": {},
   "outputs": [],
   "source": [
    "##"
   ]
  },
  {
   "cell_type": "code",
   "execution_count": null,
   "id": "29d9b4e4-6fbc-455d-80d0-77a79577af62",
   "metadata": {},
   "outputs": [],
   "source": []
  },
  {
   "cell_type": "code",
   "execution_count": null,
   "id": "0afa06a9-d94f-476b-9aec-1266bbc6b8b4",
   "metadata": {},
   "outputs": [],
   "source": []
  },
  {
   "cell_type": "code",
   "execution_count": null,
   "id": "1b38f34a-b69d-4a6f-ae9e-65e1c52c443c",
   "metadata": {},
   "outputs": [],
   "source": []
  },
  {
   "cell_type": "markdown",
   "id": "16297370-0e82-466b-bc9a-25b63ea29a5f",
   "metadata": {},
   "source": [
    "## Using extra data to improve the current accuracy"
   ]
  },
  {
   "cell_type": "markdown",
   "id": "4c2a561e-0415-4cb0-b145-0d17da450f5f",
   "metadata": {},
   "source": [
    "Analysis on the given data: \n",
    "The given data does not have the labels for the cell type but only with the cancerous status. So, one possible way is to train the embeddings via the encoder/decoder neural network (i.e. similar to what BERT do), then fine tuned on the given dataset. "
   ]
  },
  {
   "cell_type": "code",
   "execution_count": null,
   "id": "82835405-aa0b-44fd-bb1a-8495a8f56b13",
   "metadata": {},
   "outputs": [],
   "source": []
  }
 ],
 "metadata": {
  "kernelspec": {
   "display_name": "Python 3 (ipykernel)",
   "language": "python",
   "name": "python3"
  },
  "language_info": {
   "codemirror_mode": {
    "name": "ipython",
    "version": 3
   },
   "file_extension": ".py",
   "mimetype": "text/x-python",
   "name": "python",
   "nbconvert_exporter": "python",
   "pygments_lexer": "ipython3",
   "version": "3.9.18"
  }
 },
 "nbformat": 4,
 "nbformat_minor": 5
}
